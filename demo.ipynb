{
 "cells": [
  {
   "cell_type": "code",
   "execution_count": 1,
   "metadata": {
    "collapsed": true
   },
   "outputs": [],
   "source": [
    "import os\n",
    "import cv2\n",
    "from detectron2.config import get_cfg\n",
    "\n",
    "from detectron2.engine import DefaultPredictor"
   ]
  },
  {
   "cell_type": "code",
   "execution_count": 2,
   "outputs": [],
   "source": [
    "cfg = get_cfg()\n",
    "cfg.merge_from_file(\"configs/faster_rcnn_R_50_FPN_1x.yaml\")\n",
    "\n",
    "model_path = \"model/model_5c_0316.pth\"\n",
    "\n",
    "cfg.MODEL.WEIGHTS = model_path\n",
    "cfg.MODEL.ROI_HEADS.BATCH_SIZE_PER_IMAGE = (\n",
    "    1\n",
    ")\n",
    "cfg.MODEL.ROI_HEADS.SCORE_THRESH_TEST = 0.5\n",
    "cfg.MODEL.ROI_HEADS.NUM_CLASSES = 5\n",
    "\n",
    "cfg.MODEL.DEVICE = \"cpu\"\n",
    "model = DefaultPredictor(cfg)\n",
    "\n"
   ],
   "metadata": {
    "collapsed": false,
    "pycharm": {
     "name": "#%%\n"
    }
   }
  },
  {
   "cell_type": "code",
   "execution_count": 3,
   "outputs": [],
   "source": [
    "image_path = r\"E:\\defect_dataset\\image\\002064-C-68_C5#1.jpg\"\n",
    "image = cv2.imread(image_path)\n",
    "    # 清楚上一次预测的图像信息\n",
    "boxes = []\n",
    "scores = []\n",
    "\n",
    "out = model(image)"
   ],
   "metadata": {
    "collapsed": false,
    "pycharm": {
     "name": "#%%\n"
    }
   }
  },
  {
   "cell_type": "code",
   "execution_count": 24,
   "outputs": [],
   "source": [
    "cnt = len(out[\"instances\"])\n",
    "for idx in range(len(out[\"instances\"])):\n",
    "    box = out[\"instances\"][idx].get(\"pred_boxes\")\n",
    "    scores = out[\"instances\"][idx].get(\"scores\")\n",
    "    score = scores[0].item()\n",
    "\n",
    "    x1, y1, x2, y2 = int(box.tensor[0, 0]), int(box.tensor[:, 1]), \\\n",
    "                     int(box.tensor[:, 2]), int(box.tensor[:, 3])\n",
    "\n",
    "    boxes.append([x1, y1, x2, y2])"
   ],
   "metadata": {
    "collapsed": false,
    "pycharm": {
     "name": "#%%\n"
    }
   }
  },
  {
   "cell_type": "code",
   "execution_count": 4,
   "outputs": [],
   "source": [
    "dir(out)\n",
    "\n",
    "ins = out.get(\"instances\")"
   ],
   "metadata": {
    "collapsed": false,
    "pycharm": {
     "name": "#%%\n"
    }
   }
  },
  {
   "cell_type": "code",
   "execution_count": 26,
   "outputs": [
    {
     "name": "stdout",
     "output_type": "stream",
     "text": [
      "<class 'detectron2.structures.instances.Instances'>\n"
     ]
    }
   ],
   "source": [
    "dir(ins)\n",
    "print(type(ins))\n",
    "f = ins.get_fields()"
   ],
   "metadata": {
    "collapsed": false,
    "pycharm": {
     "name": "#%%\n"
    }
   }
  },
  {
   "cell_type": "code",
   "execution_count": 11,
   "outputs": [
    {
     "data": {
      "text/plain": "detectron2.structures.boxes.Boxes"
     },
     "execution_count": 11,
     "metadata": {},
     "output_type": "execute_result"
    }
   ],
   "source": [
    "type(f)\n",
    "b = f.get(\"pred_boxes\")\n",
    "type(b)"
   ],
   "metadata": {
    "collapsed": false,
    "pycharm": {
     "name": "#%%\n"
    }
   }
  },
  {
   "cell_type": "code",
   "execution_count": 14,
   "outputs": [],
   "source": [
    "s = f.get(\"scores\")\n",
    "type(s)\n",
    "s = s.numpy()"
   ],
   "metadata": {
    "collapsed": false,
    "pycharm": {
     "name": "#%%\n"
    }
   }
  },
  {
   "cell_type": "code",
   "execution_count": 27,
   "outputs": [
    {
     "data": {
      "text/plain": "tensor([3, 3, 2, 0, 3, 2, 2])"
     },
     "execution_count": 27,
     "metadata": {},
     "output_type": "execute_result"
    }
   ],
   "source": [
    "c = f.get(\"pred_classes\")\n",
    "\n",
    "c"
   ],
   "metadata": {
    "collapsed": false,
    "pycharm": {
     "name": "#%%\n"
    }
   }
  },
  {
   "cell_type": "code",
   "execution_count": 22,
   "outputs": [
    {
     "name": "stdout",
     "output_type": "stream",
     "text": [
      "<class 'torch.Tensor'> tensor(3)\n",
      "<class 'torch.Tensor'> tensor(0)\n",
      "<class 'torch.Tensor'> tensor(2)\n",
      "<class 'torch.Tensor'> tensor(3)\n",
      "<class 'torch.Tensor'> tensor(3)\n",
      "<class 'torch.Tensor'> tensor(2)\n",
      "<class 'torch.Tensor'> tensor(3)\n",
      "<class 'torch.Tensor'> tensor(3)\n",
      "<class 'torch.Tensor'> tensor(2)\n"
     ]
    }
   ],
   "source": [
    "for bb in c:\n",
    "    print(type(bb), bb)"
   ],
   "metadata": {
    "collapsed": false,
    "pycharm": {
     "name": "#%%\n"
    }
   }
  }
 ],
 "metadata": {
  "kernelspec": {
   "display_name": "Python 3",
   "language": "python",
   "name": "python3"
  },
  "language_info": {
   "codemirror_mode": {
    "name": "ipython",
    "version": 2
   },
   "file_extension": ".py",
   "mimetype": "text/x-python",
   "name": "python",
   "nbconvert_exporter": "python",
   "pygments_lexer": "ipython2",
   "version": "2.7.6"
  }
 },
 "nbformat": 4,
 "nbformat_minor": 0
}